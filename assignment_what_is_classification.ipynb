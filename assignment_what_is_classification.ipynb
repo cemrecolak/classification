{
 "cells": [
  {
   "cell_type": "markdown",
   "metadata": {},
   "source": [
    "# Assignment - What is Classification\n",
    "\n",
    "Determine whether the following examples are classification problems or regression problems:\n",
    "\n",
    "- Given the size of the house, estimating the price of it,\n",
    "- From the clothes of those who come to see the house, to conclude who has a high or low probability of buying the house,\n",
    "- Using parameters such as location and date, calculate the probability of rain,\n",
    "- Estimating a one's salary using parameters such as education and experience,\n",
    "- Estimation one's age,\n",
    "- Estimation one's income,\n",
    "- Estimate the direction of price of any stock."
   ]
  },
  {
   "cell_type": "markdown",
   "metadata": {},
   "source": [
    "- Given the size of the house, estimating the price of it <b>Regression</b>\n",
    "- From the clothes of those who come to see the house, to conclude who has a high or low probability of buying the house <b>Classification</b>\n",
    "- Using parameters such as location and date, calculate the probability of rain <b>Regression</b> \n",
    "- Estimating a one's salary using parameters such as education and experience <b>Regression</b>\n",
    "- Estimation one's age <b>Regression</b>\n",
    "- Estimation one's income <b>Regression</b>\n",
    "- Estimate the direction of price of any stock. <b>Classification</b>"
   ]
  }
 ],
 "metadata": {
  "kernelspec": {
   "display_name": "Python 3",
   "language": "python",
   "name": "python3"
  },
  "language_info": {
   "codemirror_mode": {
    "name": "ipython",
    "version": 3
   },
   "file_extension": ".py",
   "mimetype": "text/x-python",
   "name": "python",
   "nbconvert_exporter": "python",
   "pygments_lexer": "ipython3",
   "version": "3.8.5"
  }
 },
 "nbformat": 4,
 "nbformat_minor": 4
}
